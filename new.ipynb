{
 "cells": [
  {
   "cell_type": "code",
   "execution_count": 4,
   "metadata": {},
   "outputs": [],
   "source": [
    "import math\n",
    "import numpy as np \n",
    "import matplotlib.pyplot as plt\n",
    "\n"
   ]
  },
  {
   "cell_type": "code",
   "execution_count": 10,
   "metadata": {},
   "outputs": [],
   "source": [
    "def f(x):\n",
    "    return 2*x**2 -5*x +5 "
   ]
  },
  {
   "cell_type": "code",
   "execution_count": 11,
   "metadata": {},
   "outputs": [
    {
     "data": {
      "text/plain": [
       "8"
      ]
     },
     "execution_count": 11,
     "metadata": {},
     "output_type": "execute_result"
    }
   ],
   "source": [
    "f(3)"
   ]
  },
  {
   "cell_type": "code",
   "execution_count": 12,
   "metadata": {},
   "outputs": [
    {
     "data": {
      "text/plain": [
       "[<matplotlib.lines.Line2D at 0x17afb0fddc0>]"
      ]
     },
     "execution_count": 12,
     "metadata": {},
     "output_type": "execute_result"
    },
    {
     "data": {
      "image/png": "[encoded data removed]",
      "text/plain": [
       "<Figure size 640x480 with 1 Axes>"
      ]
     },
     "metadata": {},
     "output_type": "display_data"
    }
   ],
   "source": [
    "xs=np.arange(-5,5,0.25)\n",
    "ys = f(xs)\n",
    "plt.plot(xs,ys)"
   ]
  },
  {
   "cell_type": "code",
   "execution_count": 25,
   "metadata": {},
   "outputs": [
    {
     "data": {
      "text/plain": [
       "11.000019999229947"
      ]
     },
     "execution_count": 25,
     "metadata": {},
     "output_type": "execute_result"
    }
   ],
   "source": [
    "h=0.00001\n",
    "x=4.0\n",
    "(f(x+h)-f(x))/h"
   ]
  },
  {
   "cell_type": "code",
   "execution_count": 20,
   "metadata": {},
   "outputs": [],
   "source": [
    "class Value:\n",
    "    def __init__(self,data, _child=(),_op=''):\n",
    "        self.data=data\n",
    "        self.prev=set(_child)\n",
    "        self.grad=0.0\n",
    "        self._backward=lambda:None\n",
    "        self._op=_op\n",
    "        \n",
    "\n",
    "    def __repr__(self): \n",
    "        return f\"value(data={self.data}\" \n",
    "     \n",
    "    def __add__(self,other):\n",
    "        out=Value(self.data+other.data,(self,other),'+') \n",
    "        def __backward():\n",
    "            self.gard=1.0*out.grad\n",
    "            other.grad=1.0*out.grad\n",
    "            out._backward=_backward\n",
    "\n",
    "        return out\n",
    "    \n",
    "    def __mul__(self,other):\n",
    "        out=Value(self.data+other.data,(self,other),'*') \n",
    "        def __backward():\n",
    "            self.gard=other*out.grad\n",
    "            other.grad=other*out.grad\n",
    "            out._backward=_backward\n",
    "        return out\n",
    "    def tanh(self):\n",
    "        x=self.data\n",
    "        t =(math.exp(2*x)-1)/(math.exp(2*x)+1)\n",
    "\n",
    "        out=Value(t,(self,))\n",
    "        def _backward():\n",
    "          self.grad=(1-t**2)* out.grad\n",
    "        out._backward =_backward\n",
    "        return out\n",
    "\n",
    "\n",
    "    \n",
    "a =Value(3.0)\n",
    "b=Value(-2.0)\n",
    "c=Value(5.0)\n",
    "\n"
   ]
  },
  {
   "cell_type": "markdown",
   "metadata": {},
   "source": [
    "\n",
    "weights and bias comming in:)"
   ]
  },
  {
   "cell_type": "code",
   "execution_count": 27,
   "metadata": {},
   "outputs": [
    {
     "name": "stdout",
     "output_type": "stream",
     "text": [
      "None\n",
      "None\n"
     ]
    }
   ],
   "source": [
    "#inputs x1 x2\n",
    "x1=Value(2.0)\n",
    "x2=Value(3.0)\n",
    "#weights w1 w2\n",
    "w1=Value(-3.0)\n",
    "w2=Value(1.0)\n",
    "#bias b\n",
    "b=Value(6.7)\n",
    "#x1w1*x2w2 + b\n",
    "x1w1=x1*w1\n",
    "x2w2=x2*w2\n",
    "\n",
    "x1w1x2w2=x1w1*x2w2\n",
    "\n",
    "n=x1w1x2w2+b;\n",
    "o=n.tanh();\n",
    "o.grad=1.0\n",
    "A=o._backward()\n",
    "B=n._backward()\n",
    "print(A)\n",
    "print(B)"
   ]
  }
 ],
 "metadata": {
  "kernelspec": {
   "display_name": "Python 3",
   "language": "python",
   "name": "python3"
  },
  "language_info": {
   "codemirror_mode": {
    "name": "ipython",
    "version": 3
   },
   "file_extension": ".py",
   "mimetype": "text/x-python",
   "name": "python",
   "nbconvert_exporter": "python",
   "pygments_lexer": "ipython3",
   "version": "3.12.4"
  }
 },
 "nbformat": 4,
 "nbformat_minor": 2
}
