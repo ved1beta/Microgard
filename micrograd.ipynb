{
 "cells": [
  {
   "cell_type": "code",
   "execution_count": 2,
   "metadata": {},
   "outputs": [],
   "source": [
    "import math\n",
    "import numpy as np\n",
    "import matplotlib  as plt\n",
    "import random"
   ]
  },
  {
   "cell_type": "code",
   "execution_count": 4,
   "metadata": {},
   "outputs": [],
   "source": [
    "class Value:\n",
    "    def __init__(self,data,_child=(),_op='',):\n",
    "        self.data=data\n",
    "        self.prev=set(_child)\n",
    "        self._back=lambda:None\n",
    "        self.grad=0.0\n",
    "        self._op=_op\n",
    "\n",
    "    def __repr__(self) :\n",
    "        return f\"Value(data={self.data}\"  \n",
    "      \n",
    "    def __add__(self,other):\n",
    "        other =other if isinstance(other,Value) else Value(other)\n",
    "        out=Value(self.data + other.data,(self,other),'+')\n",
    "\n",
    "        def _back():\n",
    "            self.grad+=1.0*out.grad\n",
    "            other.grad+=1.0*out.grad\n",
    "            out._back=_back \n",
    "\n",
    "        return out\n",
    "    \n",
    "    def __mul__(self,other):\n",
    "        other =other if isinstance(other,Value) else Value(other)\n",
    "        out=Value(self.data * other.data,(self,other),'*')\n",
    "\n",
    "        def _back():\n",
    "            self.grad+=other.grad*out.grad\n",
    "            other.grad+=self.grad*out.grad\n",
    "            out._back=_back\n",
    "        return out\n",
    "    \n",
    "    def __pow__(self,other):\n",
    "        assert isinstance(other,(int,float))\n",
    "        out=Value(self.data**other,(self,))\n",
    "\n",
    "        def _back():\n",
    "            self.grad+=other*(self.data **(other-1))*out.grad\n",
    "        out._back=_back\n",
    "        return out\n",
    "    \n",
    "    def __rmul__(self,other):\n",
    "        return self*other\n",
    "    \n",
    "    def __truediv__(self,other):\n",
    "        return self*other**-1\n",
    "    \n",
    "    def tanh(self):\n",
    "        x=self.data\n",
    "        t=((math.exp(2*x)-1)/math.exp(2*x)+1)\n",
    "        out=Value(t,(self,),'tanh')\n",
    "\n",
    "        def _back():\n",
    "            self.grad=(1-t**2)*out.grad\n",
    "        out._back=_back    \n",
    "        return out\n",
    "    def exp(self):\n",
    "        x=self.data\n",
    "        out = Value(math.exp(x),(self,))\n",
    "        def _back():\n",
    "            self.grad += out.data*out.grad\n",
    "        out._back=_back    \n",
    "\n",
    "    \n",
    "\n",
    "\n",
    "    def back(self):\n",
    "    \n",
    "        topo=[]\n",
    "        visited =set()\n",
    "        def build_topo(v):\n",
    "            visited.add(v)\n",
    "            for child in v.prev:\n",
    "                build_topo(child)\n",
    "            topo.append(v)\n",
    "        build_topo(self)\n",
    "        topo        \n",
    "        o.grad=1.0\n",
    "\n",
    "        for node in reversed (topo):\n",
    "            node._back()\n"
   ]
  },
  {
   "cell_type": "code",
   "execution_count": 13,
   "metadata": {},
   "outputs": [],
   "source": [
    "x1=Value(2.0)\n",
    "x2=Value(0.0)\n",
    "w1=Value(-3.0)\n",
    "w2=Value(1.0)\n",
    "b=Value(6)\n",
    "x1w1=x1*w1\n",
    "x2w2=x2*w2\n",
    "x1w1x2w2=x1w1*x2w2\n",
    "n=x1w1x2w2\n",
    "o=n.tanh();"
   ]
  },
  {
   "cell_type": "code",
   "execution_count": 14,
   "metadata": {},
   "outputs": [],
   "source": [
    "import torch"
   ]
  },
  {
   "cell_type": "code",
   "execution_count": 16,
   "metadata": {},
   "outputs": [
    {
     "name": "stdout",
     "output_type": "stream",
     "text": [
      "0.7071066904050358\n",
      "---\n",
      "x2 0.5000001283844369\n",
      "w2 0.0\n",
      "x1 -1.5000003851533106\n",
      "wl 1.0000002567688737\n"
     ]
    }
   ],
   "source": [
    "x1= torch.Tensor ([2.0]).double(); x1.requires_grad = True\n",
    "x2= torch. Tensor ([0.0]).double(); x2.requires_grad = True \n",
    "w1= torch. Tensor ([-3.0]).double(); w1.requires_grad = True\n",
    "w2= torch. Tensor ([1.0]).double();w2.requires_grad = True\n",
    "b=torch. Tensor ([6.8813735870195432]).double(); b.requires_grad = True\n",
    "n=x1*w1+x2*w2 + b\n",
    "o= torch.tanh(n)\n",
    "\n",
    "print(o.data.item())\n",
    "o.backward()\n",
    "print('---')\n",
    "print('x2', x2.grad.item())\n",
    "print('w2', w2.grad.item())\n",
    "print('x1', x1.grad.item())\n",
    "print('wl', w1.grad.item())"
   ]
  },
  {
   "cell_type": "code",
   "execution_count": 16,
   "metadata": {},
   "outputs": [
    {
     "data": {
      "text/plain": [
       "[Value(data=1.995754516679734,\n",
       " Value(data=-90.00056722745907,\n",
       " Value(data=1.937181197192528,\n",
       " Value(data=-55.9651935536683]"
      ]
     },
     "execution_count": 16,
     "metadata": {},
     "output_type": "execute_result"
    }
   ],
   "source": [
    "class Neuron: \n",
    "  def __init__(self,nin):\n",
    "    self.w=[Value(random.uniform(-1,1))for _ in range(nin)]\n",
    "    self.b=Value(random.uniform(-1,1))\n",
    "\n",
    "  def __call__(self,x):\n",
    "    act=sum((wi*xi for wi,xi in zip(self.w,x)),self.b)\n",
    "    out =act.tanh()\n",
    "    return out\n",
    "  \n",
    "  def preameters(self):\n",
    "    return [p for neuron in self.neurons for p in neurons.parameters()]\n",
    "\n",
    "class Layer:\n",
    "\n",
    "    def __init__(self,nin,nout):\n",
    "      self.neurons = [Neuron(nin) for _ in range(nout)]\n",
    "\n",
    "    def __call__(self,x):\n",
    "      out = [neuron(x) for neuron in self.neurons]\n",
    "      return out[0]if len(out)== 1 else out\n",
    "    \n",
    "    def preameters(self):\n",
    "      return [p for Layer in self.Layers for p in Layers.parameters()]\n",
    "\n",
    "class MLP:\n",
    "  def __init__(self,nin,nouts):\n",
    "    sz=[nin]+nouts\n",
    "    self.layers=[Layer(sz[i],sz[i+1]) for i in range(len(nouts))]\n",
    "\n",
    "  def __call__(self,x):\n",
    "    for layer in self.layers:\n",
    "      x=layer(x) \n",
    "      return x    \n",
    "    \n",
    "x=[2.0,3.0,-1.0]\n",
    "n=MLP(3,[4,4,1])   \n",
    "n(x)"
   ]
  },
  {
   "cell_type": "code",
   "execution_count": 18,
   "metadata": {},
   "outputs": [
    {
     "data": {
      "text/plain": [
       "[[Value(data=1.995754516679734,\n",
       "  Value(data=-90.00056722745907,\n",
       "  Value(data=1.937181197192528,\n",
       "  Value(data=-55.9651935536683],\n",
       " [Value(data=1.981632929064697,\n",
       "  Value(data=1.6283503510495654,\n",
       "  Value(data=-53.824617749773104,\n",
       "  Value(data=1.9858578256018466],\n",
       " [Value(data=1.0438475271094503,\n",
       "  Value(data=-5.766161638932912,\n",
       "  Value(data=-0.9073130058952537,\n",
       "  Value(data=1.0478659119549576],\n",
       " [Value(data=1.9894954235402413,\n",
       "  Value(data=0.44765099192328783,\n",
       "  Value(data=1.1285718774294238,\n",
       "  Value(data=-12.59671462948738]]"
      ]
     },
     "execution_count": 18,
     "metadata": {},
     "output_type": "execute_result"
    }
   ],
   "source": [
    "xs=[\n",
    "    [2.0,3.0,-1.0],\n",
    "    [3.0,-1.0,0.5],\n",
    "    [0.5,1.0,1.0],\n",
    "    [1.0,1.0,-1.0]\n",
    "]\n",
    "ys=[1.0,-1.0,-1.0,1.0]\n",
    "ypred=[n(x) for x in xs]\n",
    "ypred"
   ]
  },
  {
   "cell_type": "code",
   "execution_count": 19,
   "metadata": {},
   "outputs": [
    {
     "ename": "TypeError",
     "evalue": "unsupported operand type(s) for -: 'list' and 'float'",
     "output_type": "error",
     "traceback": [
      "\u001b[1;31m---------------------------------------------------------------------------\u001b[0m",
      "\u001b[1;31mTypeError\u001b[0m                                 Traceback (most recent call last)",
      "Cell \u001b[1;32mIn[19], line 2\u001b[0m\n\u001b[0;32m      1\u001b[0m \u001b[38;5;66;03m#loss\u001b[39;00m\n\u001b[1;32m----> 2\u001b[0m [(\u001b[43myout\u001b[49m\u001b[38;5;241;43m-\u001b[39;49m\u001b[43mygt\u001b[49m)\u001b[38;5;241m*\u001b[39m\u001b[38;5;241m*\u001b[39m\u001b[38;5;241m2\u001b[39m \u001b[38;5;28;01mfor\u001b[39;00m ygt,yout \u001b[38;5;129;01min\u001b[39;00m \u001b[38;5;28mzip\u001b[39m(ys,ypred)]\n",
      "\u001b[1;31mTypeError\u001b[0m: unsupported operand type(s) for -: 'list' and 'float'"
     ]
    }
   ],
   "source": [
    "#loss\n",
    "[(yout-ygt)**2 for ygt,yout in zip(ys,ypred)]"
   ]
  }
 ],
 "metadata": {
  "kernelspec": {
   "display_name": "Python 3",
   "language": "python",
   "name": "python3"
  },
  "language_info": {
   "codemirror_mode": {
    "name": "ipython",
    "version": 3
   },
   "file_extension": ".py",
   "mimetype": "text/x-python",
   "name": "python",
   "nbconvert_exporter": "python",
   "pygments_lexer": "ipython3",
   "version": "3.12.4"
  }
 },
 "nbformat": 4,
 "nbformat_minor": 2
}
