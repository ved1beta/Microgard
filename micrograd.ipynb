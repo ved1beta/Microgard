{
 "cells": [
  {
   "cell_type": "code",
   "execution_count": 1,
   "metadata": {},
   "outputs": [],
   "source": [
    "import math\n",
    "import numpy as np\n",
    "import matplotlib  as plt"
   ]
  },
  {
   "cell_type": "code",
   "execution_count": 2,
   "metadata": {},
   "outputs": [],
   "source": [
    "class Value:\n",
    "    def __init__(self,data,_child,_op='',):\n",
    "        self.data=data\n",
    "        self.prev=set(_child)\n",
    "        self._back=lambda:None\n",
    "        self.grad=0.0\n",
    "        self._op=_op\n",
    "\n",
    "    def __repr__(self) :\n",
    "        return f\"Value(data={self.data}\"  \n",
    "      \n",
    "    def __add__(self,other):\n",
    "        out=Value(self.data + other.data,(self,other),'+')\n",
    "\n",
    "        def _back():\n",
    "            self.grad+=1.0*out.grad\n",
    "            other.grad+=1.0*out.grad\n",
    "            out._back=_back \n",
    "\n",
    "        return out\n",
    "    \n",
    "    def __mul__(self,other):\n",
    "        out=Value(self.data * other.data,(self,other),'*')\n",
    "\n",
    "        def _back():\n",
    "            self.grad+=other.grad*out.grad\n",
    "            other.grad+=self.grad*out.grad\n",
    "            out._back=_back\n",
    "        return out\n",
    "    \n",
    "    def tanh(self):\n",
    "        x=self.data\n",
    "        t=((math.exp(2*x)-1)/math.exp(2*x)+1)\n",
    "        out=Value(t,(self,),'tanh')\n",
    "\n",
    "        def _back():\n",
    "            self.grad=(1-t**2)*out.grad\n",
    "        out._back=_back    \n",
    "        return out\n",
    "    "
   ]
  },
  {
   "cell_type": "code",
   "execution_count": 4,
   "metadata": {},
   "outputs": [
    {
     "ename": "NameError",
     "evalue": "name 'o' is not defined",
     "output_type": "error",
     "traceback": [
      "\u001b[1;31m---------------------------------------------------------------------------\u001b[0m",
      "\u001b[1;31mNameError\u001b[0m                                 Traceback (most recent call last)",
      "Cell \u001b[1;32mIn[4], line 8\u001b[0m\n\u001b[0;32m      6\u001b[0m         build_topo(child)\n\u001b[0;32m      7\u001b[0m     topo\u001b[38;5;241m.\u001b[39mappend(v)\n\u001b[1;32m----> 8\u001b[0m build_topo(\u001b[43mo\u001b[49m)\n\u001b[0;32m      9\u001b[0m topo        \n",
      "\u001b[1;31mNameError\u001b[0m: name 'o' is not defined"
     ]
    }
   ],
   "source": [
    "topo=[]\n",
    "visited =set()\n",
    "def build_topo(v):\n",
    "    visited.add(v)\n",
    "    for child in v.prev:\n",
    "        build_topo(child)\n",
    "    topo.append(v)\n",
    "build_topo(o)\n",
    "topo        \n"
   ]
  },
  {
   "cell_type": "code",
   "execution_count": null,
   "metadata": {},
   "outputs": [],
   "source": []
  }
 ],
 "metadata": {
  "kernelspec": {
   "display_name": "Python 3",
   "language": "python",
   "name": "python3"
  },
  "language_info": {
   "codemirror_mode": {
    "name": "ipython",
    "version": 3
   },
   "file_extension": ".py",
   "mimetype": "text/x-python",
   "name": "python",
   "nbconvert_exporter": "python",
   "pygments_lexer": "ipython3",
   "version": "3.12.4"
  }
 },
 "nbformat": 4,
 "nbformat_minor": 2
}
